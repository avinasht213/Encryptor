{
 "cells": [
  {
   "cell_type": "markdown",
   "id": "d67b9954-85da-4314-8bb2-03c3a2d79799",
   "metadata": {},
   "source": [
    "Develop a program to encrypt and decrypt the given string\n"
   ]
  },
  {
   "cell_type": "code",
   "execution_count": 1,
   "id": "e96a8880-ee00-42f9-85c9-bad5bf497924",
   "metadata": {},
   "outputs": [
    {
     "name": "stdout",
     "output_type": "stream",
     "text": [
      "enter Text:luffy emerged as yonko\n",
      "enter key:13\n",
      "select encryption for E or Decryption for D:E\n",
      "cipher text is: yhssl rzretrq nf lbaxb\n"
     ]
    }
   ],
   "source": [
    "Text=input('enter Text:')\n",
    "key1=int(input('enter key:'))\n",
    "option=input('select encryption for E or Decryption for D:')\n",
    "if key1>=26:\n",
    "    key=key1%26\n",
    "else:\n",
    "    key=key1\n",
    "def encryption(Text,key):\n",
    "    cipher=''\n",
    "    for char in Text:\n",
    "        if ord(char)>=97 and ord(char)<=122:\n",
    "            if key > 122-ord(char):\n",
    "                round=(key)-(122-ord(char))\n",
    "                cipher+=chr(96+round)\n",
    "            else:\n",
    "                cipher+=chr(ord(char)+key)\n",
    "        if ord(char)>=65 and ord(char)<=90:\n",
    "            if key > 90-ord(char):\n",
    "                round=(key)-(90-ord(char))\n",
    "                cipher+=chr(64+round)\n",
    "            else:\n",
    "                cipher+=chr(ord(char)+key)\n",
    "        if char==' ':\n",
    "            cipher+=' ' \n",
    "    return cipher\n",
    "def decryption(Text,key):\n",
    "    decipher=''\n",
    "    for char in Text:\n",
    "        if ord(char)>=97 and ord(char)<=122:\n",
    "            if key> ord(char)-97:\n",
    "                round=key-(ord(char)-97)\n",
    "                decipher+=chr(123-round)\n",
    "            else:\n",
    "                decipher+=chr(ord(char)-key)\n",
    "        if ord(char)>=65 and ord(char)<=90:\n",
    "            if key> ord(char)-65:\n",
    "                round=key - (ord(char)-65)\n",
    "                decipher+=chr(91-round)\n",
    "            else:\n",
    "                decipher+=chr(ord(char)-key)\n",
    "        if char==' ':\n",
    "            decipher+=' '\n",
    "    return decipher\n",
    "if option == 'E':\n",
    "    print('cipher text is:',encryption(Text,key))\n",
    "elif option == 'D':\n",
    "    print('Decipher text is:',decryption(Text,key))\n",
    "else:\n",
    "    print('Enter valid option')"
   ]
  },
  {
   "cell_type": "code",
   "execution_count": null,
   "id": "53f4f22e-f39e-4318-b606-aacf184202a2",
   "metadata": {},
   "outputs": [],
   "source": []
  }
 ],
 "metadata": {
  "kernelspec": {
   "display_name": "Python 3 (ipykernel)",
   "language": "python",
   "name": "python3"
  },
  "language_info": {
   "codemirror_mode": {
    "name": "ipython",
    "version": 3
   },
   "file_extension": ".py",
   "mimetype": "text/x-python",
   "name": "python",
   "nbconvert_exporter": "python",
   "pygments_lexer": "ipython3",
   "version": "3.11.5"
  }
 },
 "nbformat": 4,
 "nbformat_minor": 5
}
